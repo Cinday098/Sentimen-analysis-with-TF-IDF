{
 "cells": [
  {
   "cell_type": "code",
   "execution_count": 32,
   "metadata": {},
   "outputs": [],
   "source": [
    "import numpy as np\n",
    "import pandas as pd\n",
    "\n",
    "from sklearn.model_selection import train_test_split\n",
    "from sklearn.pipeline import Pipeline\n",
    "from sklearn.compose import ColumnTransformer\n",
    "\n",
    "from jcopml.pipeline import num_pipe, cat_pipe\n",
    "from jcopml.utils import save_model, load_model\n",
    "from jcopml.plot import plot_missing_value\n",
    "from jcopml.feature_importance import mean_score_decrease\n",
    "\n"
   ]
  },
  {
   "cell_type": "code",
   "execution_count": 33,
   "metadata": {},
   "outputs": [
    {
     "name": "stdout",
     "output_type": "stream",
     "text": [
      "Requirement already satisfied: xgboost in ./opt/anaconda3/lib/python3.8/site-packages (1.2.1)\n",
      "Requirement already satisfied: scipy in ./opt/anaconda3/lib/python3.8/site-packages (from xgboost) (1.5.0)\n",
      "Requirement already satisfied: numpy in ./opt/anaconda3/lib/python3.8/site-packages (from xgboost) (1.18.5)\n",
      "Note: you may need to restart the kernel to use updated packages.\n"
     ]
    }
   ],
   "source": [
    "%pip install xgboost"
   ]
  },
  {
   "cell_type": "code",
   "execution_count": 34,
   "metadata": {},
   "outputs": [],
   "source": [
    "from nltk.tokenize import word_tokenize\n",
    "from nltk.corpus import stopwords\n",
    "from string import punctuation\n",
    "\n",
    "sw_english = stopwords.words (\"english\") + list(punctuation)"
   ]
  },
  {
   "cell_type": "code",
   "execution_count": 43,
   "metadata": {},
   "outputs": [
    {
     "data": {
      "text/html": [
       "<div>\n",
       "<style scoped>\n",
       "    .dataframe tbody tr th:only-of-type {\n",
       "        vertical-align: middle;\n",
       "    }\n",
       "\n",
       "    .dataframe tbody tr th {\n",
       "        vertical-align: top;\n",
       "    }\n",
       "\n",
       "    .dataframe thead th {\n",
       "        text-align: right;\n",
       "    }\n",
       "</style>\n",
       "<table border=\"1\" class=\"dataframe\">\n",
       "  <thead>\n",
       "    <tr style=\"text-align: right;\">\n",
       "      <th></th>\n",
       "      <th>Unnamed: 0</th>\n",
       "      <th>userid</th>\n",
       "      <th>clean</th>\n",
       "      <th>post</th>\n",
       "      <th>ques</th>\n",
       "      <th>ans</th>\n",
       "      <th>asker</th>\n",
       "      <th>ans1</th>\n",
       "      <th>severity1 LOW</th>\n",
       "      <th>bully1</th>\n",
       "      <th>...</th>\n",
       "      <th>severity2 Middle</th>\n",
       "      <th>bully2</th>\n",
       "      <th>ans3</th>\n",
       "      <th>severity3 hight</th>\n",
       "      <th>bully3</th>\n",
       "      <th>tokenized_post</th>\n",
       "      <th>lowered_tokenized_post</th>\n",
       "      <th>stop_words_lower_tokenized_post</th>\n",
       "      <th>filtered_tokenized_post</th>\n",
       "      <th>stemmed_post</th>\n",
       "    </tr>\n",
       "  </thead>\n",
       "  <tbody>\n",
       "    <tr>\n",
       "      <th>0</th>\n",
       "      <td>2672</td>\n",
       "      <td>h0ttb0i</td>\n",
       "      <td>q fuk m3 n dh ah0l3bra hell no</td>\n",
       "      <td>Q: fU(K m3 !N dH@ A$$H0l3&lt;br&gt;A: hell no !!!</td>\n",
       "      <td>fU(K m3 !N dH@ A$$H0l3</td>\n",
       "      <td>hell no !!!</td>\n",
       "      <td>None</td>\n",
       "      <td>Yes</td>\n",
       "      <td>5.0</td>\n",
       "      <td>A$$H0l3</td>\n",
       "      <td>...</td>\n",
       "      <td>7.0</td>\n",
       "      <td>fU(K m3 !N dH@ A$$H0l3</td>\n",
       "      <td>No</td>\n",
       "      <td>0.0</td>\n",
       "      <td>NaN</td>\n",
       "      <td>['Q', ':', 'fU', '(', 'K', 'm3', '!', 'N', 'dH...</td>\n",
       "      <td>['q', ':', 'fu', '(', 'k', 'm3', '!', 'n', 'dh...</td>\n",
       "      <td>['q', ':', 'fu', '(', 'k', 'm3', '!', 'n', 'dh...</td>\n",
       "      <td>['h0l3', 'hell']</td>\n",
       "      <td>['h0l3', 'hell']</td>\n",
       "    </tr>\n",
       "    <tr>\n",
       "      <th>1</th>\n",
       "      <td>2602</td>\n",
       "      <td>dearalexiis</td>\n",
       "      <td>q yhuuu ready to get yhur a beat this saturday...</td>\n",
       "      <td>Q: YHUUU READY TO GET YHUR A$$ BEat THIS SATuR...</td>\n",
       "      <td>YHUUU READY TO GET YHUR A$$ BEat THIS SATuRDAY...</td>\n",
       "      <td>You can try  but it won't happen.. I don't kno...</td>\n",
       "      <td>tootsybbygarl</td>\n",
       "      <td>Yes</td>\n",
       "      <td>10.0</td>\n",
       "      <td>READY TO GET YHUR A$$ BEat THIS SATuRDAYY</td>\n",
       "      <td>...</td>\n",
       "      <td>8.0</td>\n",
       "      <td>ugly bitchessss</td>\n",
       "      <td>Yes</td>\n",
       "      <td>8.0</td>\n",
       "      <td>GET YHUR A$$ BEat</td>\n",
       "      <td>['Q', ':', 'YHUUU', 'READY', 'TO', 'GET', 'YHU...</td>\n",
       "      <td>['q', ':', 'yhuuu', 'ready', 'to', 'get', 'yhu...</td>\n",
       "      <td>['q', ':', 'yhuuu', 'ready', 'get', 'yhur', '$...</td>\n",
       "      <td>['yhuuu', 'ready', 'get', 'yhur', 'beat', 'sat...</td>\n",
       "      <td>['yhuuu', 'ready', 'get', 'yhur', 'beat', 'sat...</td>\n",
       "    </tr>\n",
       "    <tr>\n",
       "      <th>2</th>\n",
       "      <td>9040</td>\n",
       "      <td>kellyblake1</td>\n",
       "      <td>q omg you was on skins reeeets i mean i actual...</td>\n",
       "      <td>Q: OMG YOU WAS ON SKINS REEEETS? I MEAN I ACTU...</td>\n",
       "      <td>OMG YOU WAS ON SKINS REEEETS? I MEAN I ACTUALL...</td>\n",
       "      <td>Taking the piss much? :P</td>\n",
       "      <td>None</td>\n",
       "      <td>Yes</td>\n",
       "      <td>1.0</td>\n",
       "      <td>MEAN I ACTUALLY SAW YOU JIZZZ MUCH</td>\n",
       "      <td>...</td>\n",
       "      <td>0.0</td>\n",
       "      <td>NaN</td>\n",
       "      <td>No</td>\n",
       "      <td>0.0</td>\n",
       "      <td>NaN</td>\n",
       "      <td>['Q', ':', 'OMG', 'YOU', 'WAS', 'ON', 'SKINS',...</td>\n",
       "      <td>['q', ':', 'omg', 'you', 'was', 'on', 'skins',...</td>\n",
       "      <td>['q', ':', 'omg', 'skins', 'reeeets', 'mean', ...</td>\n",
       "      <td>['omg', 'skins', 'reeeets', 'mean', 'actually'...</td>\n",
       "      <td>['omg', 'skin', 'reeeets', 'mean', 'actually',...</td>\n",
       "    </tr>\n",
       "    <tr>\n",
       "      <th>3</th>\n",
       "      <td>5417</td>\n",
       "      <td>zooshay</td>\n",
       "      <td>q how big of a flirt are youbra not a flirt at...</td>\n",
       "      <td>Q: How big of a flirt are you?&lt;br&gt;A: not a fli...</td>\n",
       "      <td>How big of a flirt are you?</td>\n",
       "      <td>not a flirt at all lmao shut up</td>\n",
       "      <td>Trebla1</td>\n",
       "      <td>Yes</td>\n",
       "      <td>1.0</td>\n",
       "      <td>shut up</td>\n",
       "      <td>...</td>\n",
       "      <td>0.0</td>\n",
       "      <td>NaN</td>\n",
       "      <td>No</td>\n",
       "      <td>0.0</td>\n",
       "      <td>NaN</td>\n",
       "      <td>['Q', ':', 'How', 'big', 'of', 'a', 'flirt', '...</td>\n",
       "      <td>['q', ':', 'how', 'big', 'of', 'a', 'flirt', '...</td>\n",
       "      <td>['q', ':', 'big', 'flirt', '&lt;', 'br', '&gt;', ':'...</td>\n",
       "      <td>['big', 'flirt', 'flirt', 'lmao', 'shut']</td>\n",
       "      <td>['big', 'flirt', 'flirt', 'lmao', 'shut']</td>\n",
       "    </tr>\n",
       "    <tr>\n",
       "      <th>4</th>\n",
       "      <td>2823</td>\n",
       "      <td>h0ttb0i</td>\n",
       "      <td>q y when you suckd my dog up you was chokin an...</td>\n",
       "      <td>Q: y when you suckd my dog up you was chokin a...</td>\n",
       "      <td>y when you suckd my dog up you was chokin and ...</td>\n",
       "      <td>lmfao who da hell is diz wtf yew stopid [[neva...</td>\n",
       "      <td>None</td>\n",
       "      <td>Yes</td>\n",
       "      <td>4.0</td>\n",
       "      <td>when you suckd my dog up you was chokin and shit</td>\n",
       "      <td>...</td>\n",
       "      <td>0.0</td>\n",
       "      <td>NaN</td>\n",
       "      <td>No</td>\n",
       "      <td>0.0</td>\n",
       "      <td>NaN</td>\n",
       "      <td>['Q', ':', 'y', 'when', 'you', 'suckd', 'my', ...</td>\n",
       "      <td>['q', ':', 'y', 'when', 'you', 'suckd', 'my', ...</td>\n",
       "      <td>['q', ':', 'suckd', 'dog', 'chokin', 'shit', '...</td>\n",
       "      <td>['suckd', 'dog', 'chokin', 'shit', 'lmfao', 'h...</td>\n",
       "      <td>['suckd', 'dog', 'chokin', 'shit', 'lmfao', 'h...</td>\n",
       "    </tr>\n",
       "  </tbody>\n",
       "</table>\n",
       "<p>5 rows × 21 columns</p>\n",
       "</div>"
      ],
      "text/plain": [
       "   Unnamed: 0       userid                                              clean  \\\n",
       "0        2672      h0ttb0i                     q fuk m3 n dh ah0l3bra hell no   \n",
       "1        2602  dearalexiis  q yhuuu ready to get yhur a beat this saturday...   \n",
       "2        9040  kellyblake1  q omg you was on skins reeeets i mean i actual...   \n",
       "3        5417      zooshay  q how big of a flirt are youbra not a flirt at...   \n",
       "4        2823      h0ttb0i  q y when you suckd my dog up you was chokin an...   \n",
       "\n",
       "                                                post  \\\n",
       "0        Q: fU(K m3 !N dH@ A$$H0l3<br>A: hell no !!!   \n",
       "1  Q: YHUUU READY TO GET YHUR A$$ BEat THIS SATuR...   \n",
       "2  Q: OMG YOU WAS ON SKINS REEEETS? I MEAN I ACTU...   \n",
       "3  Q: How big of a flirt are you?<br>A: not a fli...   \n",
       "4  Q: y when you suckd my dog up you was chokin a...   \n",
       "\n",
       "                                                ques  \\\n",
       "0                             fU(K m3 !N dH@ A$$H0l3   \n",
       "1  YHUUU READY TO GET YHUR A$$ BEat THIS SATuRDAY...   \n",
       "2  OMG YOU WAS ON SKINS REEEETS? I MEAN I ACTUALL...   \n",
       "3                        How big of a flirt are you?   \n",
       "4  y when you suckd my dog up you was chokin and ...   \n",
       "\n",
       "                                                 ans          asker ans1  \\\n",
       "0                                        hell no !!!           None  Yes   \n",
       "1  You can try  but it won't happen.. I don't kno...  tootsybbygarl  Yes   \n",
       "2                           Taking the piss much? :P           None  Yes   \n",
       "3                    not a flirt at all lmao shut up        Trebla1  Yes   \n",
       "4  lmfao who da hell is diz wtf yew stopid [[neva...           None  Yes   \n",
       "\n",
       "   severity1 LOW                                            bully1  ...  \\\n",
       "0            5.0                                           A$$H0l3  ...   \n",
       "1           10.0         READY TO GET YHUR A$$ BEat THIS SATuRDAYY  ...   \n",
       "2            1.0                MEAN I ACTUALLY SAW YOU JIZZZ MUCH  ...   \n",
       "3            1.0                                           shut up  ...   \n",
       "4            4.0  when you suckd my dog up you was chokin and shit  ...   \n",
       "\n",
       "  severity2 Middle                  bully2 ans3 severity3 hight  \\\n",
       "0              7.0  fU(K m3 !N dH@ A$$H0l3   No             0.0   \n",
       "1              8.0         ugly bitchessss  Yes             8.0   \n",
       "2              0.0                     NaN   No             0.0   \n",
       "3              0.0                     NaN   No             0.0   \n",
       "4              0.0                     NaN   No             0.0   \n",
       "\n",
       "              bully3                                     tokenized_post  \\\n",
       "0                NaN  ['Q', ':', 'fU', '(', 'K', 'm3', '!', 'N', 'dH...   \n",
       "1  GET YHUR A$$ BEat  ['Q', ':', 'YHUUU', 'READY', 'TO', 'GET', 'YHU...   \n",
       "2                NaN  ['Q', ':', 'OMG', 'YOU', 'WAS', 'ON', 'SKINS',...   \n",
       "3                NaN  ['Q', ':', 'How', 'big', 'of', 'a', 'flirt', '...   \n",
       "4                NaN  ['Q', ':', 'y', 'when', 'you', 'suckd', 'my', ...   \n",
       "\n",
       "                              lowered_tokenized_post  \\\n",
       "0  ['q', ':', 'fu', '(', 'k', 'm3', '!', 'n', 'dh...   \n",
       "1  ['q', ':', 'yhuuu', 'ready', 'to', 'get', 'yhu...   \n",
       "2  ['q', ':', 'omg', 'you', 'was', 'on', 'skins',...   \n",
       "3  ['q', ':', 'how', 'big', 'of', 'a', 'flirt', '...   \n",
       "4  ['q', ':', 'y', 'when', 'you', 'suckd', 'my', ...   \n",
       "\n",
       "                     stop_words_lower_tokenized_post  \\\n",
       "0  ['q', ':', 'fu', '(', 'k', 'm3', '!', 'n', 'dh...   \n",
       "1  ['q', ':', 'yhuuu', 'ready', 'get', 'yhur', '$...   \n",
       "2  ['q', ':', 'omg', 'skins', 'reeeets', 'mean', ...   \n",
       "3  ['q', ':', 'big', 'flirt', '<', 'br', '>', ':'...   \n",
       "4  ['q', ':', 'suckd', 'dog', 'chokin', 'shit', '...   \n",
       "\n",
       "                             filtered_tokenized_post  \\\n",
       "0                                   ['h0l3', 'hell']   \n",
       "1  ['yhuuu', 'ready', 'get', 'yhur', 'beat', 'sat...   \n",
       "2  ['omg', 'skins', 'reeeets', 'mean', 'actually'...   \n",
       "3          ['big', 'flirt', 'flirt', 'lmao', 'shut']   \n",
       "4  ['suckd', 'dog', 'chokin', 'shit', 'lmfao', 'h...   \n",
       "\n",
       "                                        stemmed_post  \n",
       "0                                   ['h0l3', 'hell']  \n",
       "1  ['yhuuu', 'ready', 'get', 'yhur', 'beat', 'sat...  \n",
       "2  ['omg', 'skin', 'reeeets', 'mean', 'actually',...  \n",
       "3          ['big', 'flirt', 'flirt', 'lmao', 'shut']  \n",
       "4  ['suckd', 'dog', 'chokin', 'shit', 'lmfao', 'h...  \n",
       "\n",
       "[5 rows x 21 columns]"
      ]
     },
     "execution_count": 43,
     "metadata": {},
     "output_type": "execute_result"
    }
   ],
   "source": [
    "df = pd.read_csv(\"dataclean2.csv\")\n",
    "df.head()"
   ]
  },
  {
   "cell_type": "code",
   "execution_count": 44,
   "metadata": {},
   "outputs": [
    {
     "data": {
      "text/plain": [
       "Yes    0.5\n",
       "No     0.5\n",
       "Name: ans1, dtype: float64"
      ]
     },
     "execution_count": 44,
     "metadata": {},
     "output_type": "execute_result"
    }
   ],
   "source": [
    "df.ans1.value_counts(normalize=True)"
   ]
  },
  {
   "cell_type": "code",
   "execution_count": 99,
   "metadata": {},
   "outputs": [
    {
     "data": {
      "text/plain": [
       "((1280,), (320,), (1280,), (320,))"
      ]
     },
     "execution_count": 99,
     "metadata": {},
     "output_type": "execute_result"
    }
   ],
   "source": [
    "X = df.clean\n",
    "y = df.ans1\n",
    "\n",
    "X_train, X_test, y_train, y_test = train_test_split(X, y, test_size=0.2, stratify=y, random_state=42)\n",
    "X_train.shape, X_test.shape, y_train.shape, y_test.shape\n",
    "    "
   ]
  },
  {
   "cell_type": "code",
   "execution_count": 100,
   "metadata": {},
   "outputs": [],
   "source": [
    "from sklearn.svm import SVC\n",
    "from sklearn.model_selection import RandomizedSearchCV\n",
    "from jcopml.tuning import random_search_params as rsp\n",
    "\n",
    "from sklearn.feature_extraction.text import CountVectorizer"
   ]
  },
  {
   "cell_type": "code",
   "execution_count": 102,
   "metadata": {},
   "outputs": [
    {
     "name": "stdout",
     "output_type": "stream",
     "text": [
      "Fitting 4 folds for each of 50 candidates, totalling 200 fits\n"
     ]
    },
    {
     "name": "stderr",
     "output_type": "stream",
     "text": [
      "[Parallel(n_jobs=-1)]: Using backend LokyBackend with 4 concurrent workers.\n",
      "[Parallel(n_jobs=-1)]: Done  42 tasks      | elapsed:    5.7s\n",
      "[Parallel(n_jobs=-1)]: Done 192 tasks      | elapsed:   26.1s\n",
      "[Parallel(n_jobs=-1)]: Done 200 out of 200 | elapsed:   27.1s finished\n",
      "/Users/cindyrahayu/opt/anaconda3/lib/python3.8/site-packages/sklearn/feature_extraction/text.py:383: UserWarning: Your stop_words may be inconsistent with your preprocessing. Tokenizing the stop words generated tokens [\"'d\", \"'ll\", \"'re\", \"'s\", \"'ve\", '``', 'could', 'might', 'must', \"n't\", 'need', 'sha', 'wo', 'would'] not in stop_words.\n",
      "  warnings.warn('Your stop_words may be inconsistent with '\n",
      "/Users/cindyrahayu/opt/anaconda3/lib/python3.8/site-packages/sklearn/svm/_base.py:246: ConvergenceWarning: Solver terminated early (max_iter=500).  Consider pre-processing your data with StandardScaler or MinMaxScaler.\n",
      "  warnings.warn('Solver terminated early (max_iter=%i).'\n"
     ]
    },
    {
     "name": "stdout",
     "output_type": "stream",
     "text": [
      "{'algo__C': 555.270424852248, 'algo__gamma': 0.27274076717040735}\n",
      "1.0 0.85546875 0.884375\n"
     ]
    }
   ],
   "source": [
    "pipeline = Pipeline([\n",
    "    ('prep', CountVectorizer(tokenizer=word_tokenize, stop_words=sw_english)),\n",
    "    ('algo', SVC(max_iter=500))\n",
    "])\n",
    "\n",
    "model = RandomizedSearchCV(pipeline, rsp.svm_params, cv=4, n_iter=50, n_jobs=-1, verbose=1, random_state=12)\n",
    "model.fit(X_train, y_train)\n",
    "\n",
    "print(model.best_params_)\n",
    "print(model.score(X_train, y_train), model.best_score_, model.score(X_test, y_test))"
   ]
  },
  {
   "cell_type": "code",
   "execution_count": 48,
   "metadata": {},
   "outputs": [],
   "source": [
    "from jcopml.plot import plot_confusion_matrix"
   ]
  },
  {
   "cell_type": "code",
   "execution_count": 41,
   "metadata": {},
   "outputs": [
    {
     "name": "stdout",
     "output_type": "stream",
     "text": [
      "recall: 0.878125\n",
      "precission: 0.8928730873817929\n",
      "f1-score: 0.8769703960015379\n"
     ]
    },
    {
     "data": {
      "image/png": "[encoded data removed]",
      "text/plain": [
       "<Figure size 792x360 with 2 Axes>"
      ]
     },
     "metadata": {
      "needs_background": "light"
     },
     "output_type": "display_data"
    }
   ],
   "source": [
    "plot_confusion_matrix(X_train, y_train, X_test, y_test, model)\n",
    "from sklearn.metrics import f1_score, precision_score, recall_score\n",
    "y_pred = model.predict(X_test)\n",
    "\n",
    "print('recall: {}'.format(recall_score(y_test, y_pred, average='weighted')))\n",
    "print('precission: {}'.format(precision_score(y_test, y_pred, average='weighted')))\n",
    "print('f1-score: {}'.format(f1_score(y_test, y_pred, average='weighted'))) "
   ]
  }
 ],
 "metadata": {
  "kernelspec": {
   "display_name": "Python 3",
   "language": "python",
   "name": "python3"
  },
  "language_info": {
   "codemirror_mode": {
    "name": "ipython",
    "version": 3
   },
   "file_extension": ".py",
   "mimetype": "text/x-python",
   "name": "python",
   "nbconvert_exporter": "python",
   "pygments_lexer": "ipython3",
   "version": "3.7.6"
  }
 },
 "nbformat": 4,
 "nbformat_minor": 4
}
